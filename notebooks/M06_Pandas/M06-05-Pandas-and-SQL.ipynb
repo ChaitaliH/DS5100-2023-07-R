{
 "cells": [
  {
   "cell_type": "markdown",
   "metadata": {},
   "source": [
    "# Pandas and SQL"
   ]
  },
  {
   "cell_type": "markdown",
   "metadata": {},
   "source": [
    "# Overview\n",
    "\n",
    "In this exercise, we split the raw table into tables corresponding the **implied subjects** we discovered. \n",
    "\n",
    "Then we use joins to reassemble the data. \n",
    "\n",
    "We will assumed that the implied subjects are ARTIST, GENRE, ALBUM, and REVIEW.\n",
    "\n",
    "To do this, we use Pandas to store the initial table as a dataframe, and then we create variations of that dataframe and save those to the database as new tables. "
   ]
  },
  {
   "cell_type": "markdown",
   "metadata": {},
   "source": [
    "# Connect to the database"
   ]
  },
  {
   "cell_type": "code",
   "execution_count": 1,
   "metadata": {
    "tags": []
   },
   "outputs": [],
   "source": [
    "import sqlite3\n",
    "import pandas as pd\n",
    "import numpy as np"
   ]
  },
  {
   "cell_type": "markdown",
   "metadata": {},
   "source": [
    "We create an empty database to store our work."
   ]
  },
  {
   "cell_type": "code",
   "execution_count": 2,
   "metadata": {
    "tags": []
   },
   "outputs": [],
   "source": [
    "db = sqlite3.connect('./data/pitchfork.db')"
   ]
  },
  {
   "cell_type": "markdown",
   "metadata": {},
   "source": [
    "# Get the raw review table\n",
    "\n",
    "Get the review data."
   ]
  },
  {
   "cell_type": "code",
   "execution_count": 3,
   "metadata": {
    "tags": []
   },
   "outputs": [],
   "source": [
    "raw = pd.read_csv(\"./data/pitchfork.csv\").set_index('id')"
   ]
  },
  {
   "cell_type": "code",
   "execution_count": 4,
   "metadata": {
    "tags": []
   },
   "outputs": [
    {
     "data": {
      "text/html": [
       "<div>\n",
       "<style scoped>\n",
       "    .dataframe tbody tr th:only-of-type {\n",
       "        vertical-align: middle;\n",
       "    }\n",
       "\n",
       "    .dataframe tbody tr th {\n",
       "        vertical-align: top;\n",
       "    }\n",
       "\n",
       "    .dataframe thead th {\n",
       "        text-align: right;\n",
       "    }\n",
       "</style>\n",
       "<table border=\"1\" class=\"dataframe\">\n",
       "  <thead>\n",
       "    <tr style=\"text-align: right;\">\n",
       "      <th></th>\n",
       "      <th>album</th>\n",
       "      <th>artist</th>\n",
       "      <th>best</th>\n",
       "      <th>date</th>\n",
       "      <th>genre</th>\n",
       "      <th>review</th>\n",
       "      <th>score</th>\n",
       "    </tr>\n",
       "    <tr>\n",
       "      <th>id</th>\n",
       "      <th></th>\n",
       "      <th></th>\n",
       "      <th></th>\n",
       "      <th></th>\n",
       "      <th></th>\n",
       "      <th></th>\n",
       "      <th></th>\n",
       "    </tr>\n",
       "  </thead>\n",
       "  <tbody>\n",
       "    <tr>\n",
       "      <th>1</th>\n",
       "      <td>A.M./Being There</td>\n",
       "      <td>Wilco</td>\n",
       "      <td>1</td>\n",
       "      <td>December 6 2017</td>\n",
       "      <td>Rock</td>\n",
       "      <td>Best new reissue 1 / 2 Albums Newly reissued a...</td>\n",
       "      <td>7.0</td>\n",
       "    </tr>\n",
       "    <tr>\n",
       "      <th>2</th>\n",
       "      <td>No Shame</td>\n",
       "      <td>Hopsin</td>\n",
       "      <td>0</td>\n",
       "      <td>December 6 2017</td>\n",
       "      <td>Rap</td>\n",
       "      <td>On his corrosive fifth album, the rapper takes...</td>\n",
       "      <td>3.5</td>\n",
       "    </tr>\n",
       "    <tr>\n",
       "      <th>3</th>\n",
       "      <td>Material Control</td>\n",
       "      <td>Glassjaw</td>\n",
       "      <td>0</td>\n",
       "      <td>December 6 2017</td>\n",
       "      <td>Rock</td>\n",
       "      <td>On their first album in 15 years, the Long Isl...</td>\n",
       "      <td>6.6</td>\n",
       "    </tr>\n",
       "    <tr>\n",
       "      <th>4</th>\n",
       "      <td>Weighing of the Heart</td>\n",
       "      <td>Nabihah Iqbal</td>\n",
       "      <td>0</td>\n",
       "      <td>December 6 2017</td>\n",
       "      <td>Pop/R&amp;B</td>\n",
       "      <td>On her debut LP, British producer Nabihah Iqba...</td>\n",
       "      <td>7.7</td>\n",
       "    </tr>\n",
       "    <tr>\n",
       "      <th>5</th>\n",
       "      <td>The Visitor</td>\n",
       "      <td>Neil Young / Promise of the Real</td>\n",
       "      <td>0</td>\n",
       "      <td>December 5 2017</td>\n",
       "      <td>Rock</td>\n",
       "      <td>While still pointedly political, Neil Youngís ...</td>\n",
       "      <td>6.7</td>\n",
       "    </tr>\n",
       "    <tr>\n",
       "      <th>...</th>\n",
       "      <td>...</td>\n",
       "      <td>...</td>\n",
       "      <td>...</td>\n",
       "      <td>...</td>\n",
       "      <td>...</td>\n",
       "      <td>...</td>\n",
       "      <td>...</td>\n",
       "    </tr>\n",
       "    <tr>\n",
       "      <th>19551</th>\n",
       "      <td>1999</td>\n",
       "      <td>Cassius</td>\n",
       "      <td>0</td>\n",
       "      <td>January 26 1999</td>\n",
       "      <td>Electronic</td>\n",
       "      <td>Well, it's been two weeks now, and I guess it'...</td>\n",
       "      <td>4.8</td>\n",
       "    </tr>\n",
       "    <tr>\n",
       "      <th>19552</th>\n",
       "      <td>Let Us Replay!</td>\n",
       "      <td>Coldcut</td>\n",
       "      <td>0</td>\n",
       "      <td>January 26 1999</td>\n",
       "      <td>Electronic</td>\n",
       "      <td>The marketing guys of yer average modern megac...</td>\n",
       "      <td>8.9</td>\n",
       "    </tr>\n",
       "    <tr>\n",
       "      <th>19553</th>\n",
       "      <td>Singles Breaking Up, Vol. 1</td>\n",
       "      <td>Don Caballero</td>\n",
       "      <td>0</td>\n",
       "      <td>January 12 1999</td>\n",
       "      <td>Experimental</td>\n",
       "      <td>Well, kids, I just went back and re-read my re...</td>\n",
       "      <td>7.2</td>\n",
       "    </tr>\n",
       "    <tr>\n",
       "      <th>19554</th>\n",
       "      <td>Out of Tune</td>\n",
       "      <td>Mojave 3</td>\n",
       "      <td>0</td>\n",
       "      <td>January 12 1999</td>\n",
       "      <td>Rock</td>\n",
       "      <td>Out of Tune is a Steve Martin album. Yes, I'll...</td>\n",
       "      <td>6.3</td>\n",
       "    </tr>\n",
       "    <tr>\n",
       "      <th>19555</th>\n",
       "      <td>Left for Dead in Malaysia</td>\n",
       "      <td>Neil Hamburger</td>\n",
       "      <td>0</td>\n",
       "      <td>January 5 1999</td>\n",
       "      <td>None</td>\n",
       "      <td>Neil Hamburger's third comedy release is a des...</td>\n",
       "      <td>6.5</td>\n",
       "    </tr>\n",
       "  </tbody>\n",
       "</table>\n",
       "<p>19555 rows × 7 columns</p>\n",
       "</div>"
      ],
      "text/plain": [
       "                             album                            artist  best  \\\n",
       "id                                                                           \n",
       "1                 A.M./Being There                             Wilco     1   \n",
       "2                         No Shame                            Hopsin     0   \n",
       "3                 Material Control                          Glassjaw     0   \n",
       "4            Weighing of the Heart                     Nabihah Iqbal     0   \n",
       "5                      The Visitor  Neil Young / Promise of the Real     0   \n",
       "...                            ...                               ...   ...   \n",
       "19551                         1999                           Cassius     0   \n",
       "19552               Let Us Replay!                           Coldcut     0   \n",
       "19553  Singles Breaking Up, Vol. 1                     Don Caballero     0   \n",
       "19554                  Out of Tune                          Mojave 3     0   \n",
       "19555    Left for Dead in Malaysia                    Neil Hamburger     0   \n",
       "\n",
       "                  date         genre  \\\n",
       "id                                     \n",
       "1      December 6 2017          Rock   \n",
       "2      December 6 2017           Rap   \n",
       "3      December 6 2017          Rock   \n",
       "4      December 6 2017       Pop/R&B   \n",
       "5      December 5 2017          Rock   \n",
       "...                ...           ...   \n",
       "19551  January 26 1999    Electronic   \n",
       "19552  January 26 1999    Electronic   \n",
       "19553  January 12 1999  Experimental   \n",
       "19554  January 12 1999          Rock   \n",
       "19555   January 5 1999          None   \n",
       "\n",
       "                                                  review  score  \n",
       "id                                                               \n",
       "1      Best new reissue 1 / 2 Albums Newly reissued a...    7.0  \n",
       "2      On his corrosive fifth album, the rapper takes...    3.5  \n",
       "3      On their first album in 15 years, the Long Isl...    6.6  \n",
       "4      On her debut LP, British producer Nabihah Iqba...    7.7  \n",
       "5      While still pointedly political, Neil Youngís ...    6.7  \n",
       "...                                                  ...    ...  \n",
       "19551  Well, it's been two weeks now, and I guess it'...    4.8  \n",
       "19552  The marketing guys of yer average modern megac...    8.9  \n",
       "19553  Well, kids, I just went back and re-read my re...    7.2  \n",
       "19554  Out of Tune is a Steve Martin album. Yes, I'll...    6.3  \n",
       "19555  Neil Hamburger's third comedy release is a des...    6.5  \n",
       "\n",
       "[19555 rows x 7 columns]"
      ]
     },
     "execution_count": 4,
     "metadata": {},
     "output_type": "execute_result"
    }
   ],
   "source": [
    "raw"
   ]
  },
  {
   "cell_type": "markdown",
   "metadata": {},
   "source": [
    "# Remove rows with missing data"
   ]
  },
  {
   "cell_type": "markdown",
   "metadata": {},
   "source": [
    "Here's a quick to inventory which columns have missing data."
   ]
  },
  {
   "cell_type": "code",
   "execution_count": 5,
   "metadata": {
    "tags": []
   },
   "outputs": [
    {
     "data": {
      "text/plain": [
       "album     5\n",
       "artist    0\n",
       "best      0\n",
       "date      0\n",
       "genre     0\n",
       "review    1\n",
       "score     0\n",
       "dtype: int64"
      ]
     },
     "execution_count": 5,
     "metadata": {},
     "output_type": "execute_result"
    }
   ],
   "source": [
    "raw.isna().sum()"
   ]
  },
  {
   "cell_type": "code",
   "execution_count": 6,
   "metadata": {
    "tags": []
   },
   "outputs": [
    {
     "data": {
      "text/html": [
       "<div>\n",
       "<style scoped>\n",
       "    .dataframe tbody tr th:only-of-type {\n",
       "        vertical-align: middle;\n",
       "    }\n",
       "\n",
       "    .dataframe tbody tr th {\n",
       "        vertical-align: top;\n",
       "    }\n",
       "\n",
       "    .dataframe thead th {\n",
       "        text-align: right;\n",
       "    }\n",
       "</style>\n",
       "<table border=\"1\" class=\"dataframe\">\n",
       "  <thead>\n",
       "    <tr style=\"text-align: right;\">\n",
       "      <th></th>\n",
       "      <th>album</th>\n",
       "      <th>artist</th>\n",
       "      <th>best</th>\n",
       "      <th>date</th>\n",
       "      <th>genre</th>\n",
       "      <th>review</th>\n",
       "      <th>score</th>\n",
       "    </tr>\n",
       "    <tr>\n",
       "      <th>id</th>\n",
       "      <th></th>\n",
       "      <th></th>\n",
       "      <th></th>\n",
       "      <th></th>\n",
       "      <th></th>\n",
       "      <th></th>\n",
       "      <th></th>\n",
       "    </tr>\n",
       "  </thead>\n",
       "  <tbody>\n",
       "    <tr>\n",
       "      <th>58</th>\n",
       "      <td>NaN</td>\n",
       "      <td>Gord Downie</td>\n",
       "      <td>0</td>\n",
       "      <td>November 17 2017</td>\n",
       "      <td>Rock</td>\n",
       "      <td>Recorded in his final months and released 10 d...</td>\n",
       "      <td>7.4</td>\n",
       "    </tr>\n",
       "    <tr>\n",
       "      <th>261</th>\n",
       "      <td>NaN</td>\n",
       "      <td>Yves Tumor</td>\n",
       "      <td>0</td>\n",
       "      <td>September 23 2017</td>\n",
       "      <td>Experimental</td>\n",
       "      <td>This self-released compilation from Yves Tumor...</td>\n",
       "      <td>7.8</td>\n",
       "    </tr>\n",
       "    <tr>\n",
       "      <th>273</th>\n",
       "      <td>NaN</td>\n",
       "      <td>Lee Ranaldo</td>\n",
       "      <td>0</td>\n",
       "      <td>September 20 2017</td>\n",
       "      <td>Experimental</td>\n",
       "      <td>Lee Ranaldoís latest album is his finest post-...</td>\n",
       "      <td>6.5</td>\n",
       "    </tr>\n",
       "    <tr>\n",
       "      <th>351</th>\n",
       "      <td>NaN</td>\n",
       "      <td>Queens of the Stone Age</td>\n",
       "      <td>0</td>\n",
       "      <td>August 28 2017</td>\n",
       "      <td>Rock</td>\n",
       "      <td>With production flourishes from Mark Ronson, J...</td>\n",
       "      <td>6.9</td>\n",
       "    </tr>\n",
       "    <tr>\n",
       "      <th>6795</th>\n",
       "      <td>NaN</td>\n",
       "      <td>Inverloch</td>\n",
       "      <td>0</td>\n",
       "      <td>April 9 2012</td>\n",
       "      <td>None</td>\n",
       "      <td>The Melbourne metal band forges a strong bridg...</td>\n",
       "      <td>6.7</td>\n",
       "    </tr>\n",
       "  </tbody>\n",
       "</table>\n",
       "</div>"
      ],
      "text/plain": [
       "     album                   artist  best               date         genre  \\\n",
       "id                                                                           \n",
       "58     NaN              Gord Downie     0   November 17 2017          Rock   \n",
       "261    NaN               Yves Tumor     0  September 23 2017  Experimental   \n",
       "273    NaN              Lee Ranaldo     0  September 20 2017  Experimental   \n",
       "351    NaN  Queens of the Stone Age     0     August 28 2017          Rock   \n",
       "6795   NaN                Inverloch     0       April 9 2012          None   \n",
       "\n",
       "                                                 review  score  \n",
       "id                                                              \n",
       "58    Recorded in his final months and released 10 d...    7.4  \n",
       "261   This self-released compilation from Yves Tumor...    7.8  \n",
       "273   Lee Ranaldoís latest album is his finest post-...    6.5  \n",
       "351   With production flourishes from Mark Ronson, J...    6.9  \n",
       "6795  The Melbourne metal band forges a strong bridg...    6.7  "
      ]
     },
     "execution_count": 6,
     "metadata": {},
     "output_type": "execute_result"
    }
   ],
   "source": [
    "raw[raw.album.isna()]"
   ]
  },
  {
   "cell_type": "code",
   "execution_count": 7,
   "metadata": {
    "tags": []
   },
   "outputs": [
    {
     "data": {
      "text/html": [
       "<div>\n",
       "<style scoped>\n",
       "    .dataframe tbody tr th:only-of-type {\n",
       "        vertical-align: middle;\n",
       "    }\n",
       "\n",
       "    .dataframe tbody tr th {\n",
       "        vertical-align: top;\n",
       "    }\n",
       "\n",
       "    .dataframe thead th {\n",
       "        text-align: right;\n",
       "    }\n",
       "</style>\n",
       "<table border=\"1\" class=\"dataframe\">\n",
       "  <thead>\n",
       "    <tr style=\"text-align: right;\">\n",
       "      <th></th>\n",
       "      <th>album</th>\n",
       "      <th>artist</th>\n",
       "      <th>best</th>\n",
       "      <th>date</th>\n",
       "      <th>genre</th>\n",
       "      <th>review</th>\n",
       "      <th>score</th>\n",
       "    </tr>\n",
       "    <tr>\n",
       "      <th>id</th>\n",
       "      <th></th>\n",
       "      <th></th>\n",
       "      <th></th>\n",
       "      <th></th>\n",
       "      <th></th>\n",
       "      <th></th>\n",
       "      <th></th>\n",
       "    </tr>\n",
       "  </thead>\n",
       "  <tbody>\n",
       "    <tr>\n",
       "      <th>13301</th>\n",
       "      <td>Shine On</td>\n",
       "      <td>Jet</td>\n",
       "      <td>0</td>\n",
       "      <td>October 2 2006</td>\n",
       "      <td>Rock</td>\n",
       "      <td>NaN</td>\n",
       "      <td>0.0</td>\n",
       "    </tr>\n",
       "  </tbody>\n",
       "</table>\n",
       "</div>"
      ],
      "text/plain": [
       "          album artist  best            date genre review  score\n",
       "id                                                              \n",
       "13301  Shine On    Jet     0  October 2 2006  Rock    NaN    0.0"
      ]
     },
     "execution_count": 7,
     "metadata": {},
     "output_type": "execute_result"
    }
   ],
   "source": [
    "raw[raw.review.isna()]"
   ]
  },
  {
   "cell_type": "code",
   "execution_count": 8,
   "metadata": {
    "tags": []
   },
   "outputs": [],
   "source": [
    "raw = raw.dropna()"
   ]
  },
  {
   "cell_type": "markdown",
   "metadata": {},
   "source": [
    "Drop dupicate rows, too."
   ]
  },
  {
   "cell_type": "code",
   "execution_count": 9,
   "metadata": {
    "tags": []
   },
   "outputs": [],
   "source": [
    "raw = raw.drop_duplicates()"
   ]
  },
  {
   "cell_type": "code",
   "execution_count": 10,
   "metadata": {
    "tags": []
   },
   "outputs": [],
   "source": [
    "raw = raw.reset_index().set_index('id')"
   ]
  },
  {
   "cell_type": "code",
   "execution_count": 11,
   "metadata": {
    "tags": []
   },
   "outputs": [
    {
     "data": {
      "text/plain": [
       "19544"
      ]
     },
     "execution_count": 11,
     "metadata": {},
     "output_type": "execute_result"
    }
   ],
   "source": [
    "raw.to_sql('raw', db, if_exists='replace')"
   ]
  },
  {
   "cell_type": "markdown",
   "metadata": {},
   "source": [
    "# Create implied subject tables"
   ]
  },
  {
   "cell_type": "markdown",
   "metadata": {
    "toc-hr-collapsed": true
   },
   "source": [
    "## The `artist` table\n",
    "\n",
    "We get the unique artist names and save them to a new dataframe, and change the column name and the index name in the process so that we have well-named columns in our table. "
   ]
  },
  {
   "cell_type": "code",
   "execution_count": 12,
   "metadata": {
    "tags": []
   },
   "outputs": [
    {
     "data": {
      "text/plain": [
       "9249"
      ]
     },
     "execution_count": 12,
     "metadata": {},
     "output_type": "execute_result"
    }
   ],
   "source": [
    "artists = raw.artist.value_counts().to_frame('n_reviews')\n",
    "artists.index.name = 'artist_id'\n",
    "artists.to_sql('artist', db, index=True, if_exists='replace', index_label='artist_id')"
   ]
  },
  {
   "cell_type": "code",
   "execution_count": 13,
   "metadata": {
    "tags": []
   },
   "outputs": [
    {
     "data": {
      "text/html": [
       "<div>\n",
       "<style scoped>\n",
       "    .dataframe tbody tr th:only-of-type {\n",
       "        vertical-align: middle;\n",
       "    }\n",
       "\n",
       "    .dataframe tbody tr th {\n",
       "        vertical-align: top;\n",
       "    }\n",
       "\n",
       "    .dataframe thead th {\n",
       "        text-align: right;\n",
       "    }\n",
       "</style>\n",
       "<table border=\"1\" class=\"dataframe\">\n",
       "  <thead>\n",
       "    <tr style=\"text-align: right;\">\n",
       "      <th></th>\n",
       "      <th>n_reviews</th>\n",
       "    </tr>\n",
       "    <tr>\n",
       "      <th>artist_id</th>\n",
       "      <th></th>\n",
       "    </tr>\n",
       "  </thead>\n",
       "  <tbody>\n",
       "    <tr>\n",
       "      <th>Flying Canyon</th>\n",
       "      <td>1</td>\n",
       "    </tr>\n",
       "    <tr>\n",
       "      <th>Florence and the Machine</th>\n",
       "      <td>4</td>\n",
       "    </tr>\n",
       "    <tr>\n",
       "      <th>Larkin Grimm</th>\n",
       "      <td>3</td>\n",
       "    </tr>\n",
       "    <tr>\n",
       "      <th>Dylan LeBlanc</th>\n",
       "      <td>2</td>\n",
       "    </tr>\n",
       "    <tr>\n",
       "      <th>Devo</th>\n",
       "      <td>2</td>\n",
       "    </tr>\n",
       "    <tr>\n",
       "      <th>Tory Lanez</th>\n",
       "      <td>3</td>\n",
       "    </tr>\n",
       "    <tr>\n",
       "      <th>Sacred Paws</th>\n",
       "      <td>1</td>\n",
       "    </tr>\n",
       "    <tr>\n",
       "      <th>Little Wings</th>\n",
       "      <td>4</td>\n",
       "    </tr>\n",
       "    <tr>\n",
       "      <th>Boris / Ian Astbury</th>\n",
       "      <td>1</td>\n",
       "    </tr>\n",
       "    <tr>\n",
       "      <th>The Sight Below</th>\n",
       "      <td>2</td>\n",
       "    </tr>\n",
       "  </tbody>\n",
       "</table>\n",
       "</div>"
      ],
      "text/plain": [
       "                          n_reviews\n",
       "artist_id                          \n",
       "Flying Canyon                     1\n",
       "Florence and the Machine          4\n",
       "Larkin Grimm                      3\n",
       "Dylan LeBlanc                     2\n",
       "Devo                              2\n",
       "Tory Lanez                        3\n",
       "Sacred Paws                       1\n",
       "Little Wings                      4\n",
       "Boris / Ian Astbury               1\n",
       "The Sight Below                   2"
      ]
     },
     "execution_count": 13,
     "metadata": {},
     "output_type": "execute_result"
    }
   ],
   "source": [
    "artists.sample(10)"
   ]
  },
  {
   "cell_type": "markdown",
   "metadata": {},
   "source": [
    "How many albums does Wilco have?"
   ]
  },
  {
   "cell_type": "code",
   "execution_count": 15,
   "metadata": {
    "tags": []
   },
   "outputs": [
    {
     "data": {
      "text/plain": [
       "14"
      ]
     },
     "execution_count": 15,
     "metadata": {},
     "output_type": "execute_result"
    }
   ],
   "source": [
    "artists.loc['Wilco'].n_reviews"
   ]
  },
  {
   "cell_type": "markdown",
   "metadata": {},
   "source": [
    "### Pattern\n",
    "\n",
    "1. Import the columns that you want from raw table into a new dataframe. `value_counts()` is your friend.\n",
    "2. Rename columns and index as desired.\n",
    "3. Put the new dataframe into the database as a new table. No need to define the schema!"
   ]
  },
  {
   "cell_type": "markdown",
   "metadata": {},
   "source": [
    "## The `genre` table"
   ]
  },
  {
   "cell_type": "code",
   "execution_count": 16,
   "metadata": {
    "tags": []
   },
   "outputs": [
    {
     "data": {
      "text/plain": [
       "10"
      ]
     },
     "execution_count": 16,
     "metadata": {},
     "output_type": "execute_result"
    }
   ],
   "source": [
    "genres = raw.genre.value_counts().to_frame('n_reviews')\n",
    "genres.index.name = 'genre_id'\n",
    "genres.to_sql('genre', db, index=True, if_exists='replace', index_label='genre_id')"
   ]
  },
  {
   "cell_type": "code",
   "execution_count": 17,
   "metadata": {
    "tags": []
   },
   "outputs": [
    {
     "data": {
      "text/html": [
       "<div>\n",
       "<style scoped>\n",
       "    .dataframe tbody tr th:only-of-type {\n",
       "        vertical-align: middle;\n",
       "    }\n",
       "\n",
       "    .dataframe tbody tr th {\n",
       "        vertical-align: top;\n",
       "    }\n",
       "\n",
       "    .dataframe thead th {\n",
       "        text-align: right;\n",
       "    }\n",
       "</style>\n",
       "<table border=\"1\" class=\"dataframe\">\n",
       "  <thead>\n",
       "    <tr style=\"text-align: right;\">\n",
       "      <th></th>\n",
       "      <th>n_reviews</th>\n",
       "    </tr>\n",
       "    <tr>\n",
       "      <th>genre_id</th>\n",
       "      <th></th>\n",
       "    </tr>\n",
       "  </thead>\n",
       "  <tbody>\n",
       "    <tr>\n",
       "      <th>Rock</th>\n",
       "      <td>6954</td>\n",
       "    </tr>\n",
       "    <tr>\n",
       "      <th>Electronic</th>\n",
       "      <td>4020</td>\n",
       "    </tr>\n",
       "    <tr>\n",
       "      <th>None</th>\n",
       "      <td>2320</td>\n",
       "    </tr>\n",
       "    <tr>\n",
       "      <th>Experimental</th>\n",
       "      <td>1696</td>\n",
       "    </tr>\n",
       "    <tr>\n",
       "      <th>Rap</th>\n",
       "      <td>1481</td>\n",
       "    </tr>\n",
       "    <tr>\n",
       "      <th>Pop/R&amp;B</th>\n",
       "      <td>1157</td>\n",
       "    </tr>\n",
       "    <tr>\n",
       "      <th>Metal</th>\n",
       "      <td>781</td>\n",
       "    </tr>\n",
       "    <tr>\n",
       "      <th>Folk/Country</th>\n",
       "      <td>700</td>\n",
       "    </tr>\n",
       "    <tr>\n",
       "      <th>Jazz</th>\n",
       "      <td>257</td>\n",
       "    </tr>\n",
       "    <tr>\n",
       "      <th>Global</th>\n",
       "      <td>178</td>\n",
       "    </tr>\n",
       "  </tbody>\n",
       "</table>\n",
       "</div>"
      ],
      "text/plain": [
       "              n_reviews\n",
       "genre_id               \n",
       "Rock               6954\n",
       "Electronic         4020\n",
       "None               2320\n",
       "Experimental       1696\n",
       "Rap                1481\n",
       "Pop/R&B            1157\n",
       "Metal               781\n",
       "Folk/Country        700\n",
       "Jazz                257\n",
       "Global              178"
      ]
     },
     "execution_count": 17,
     "metadata": {},
     "output_type": "execute_result"
    }
   ],
   "source": [
    "genres"
   ]
  },
  {
   "cell_type": "code",
   "execution_count": null,
   "metadata": {
    "tags": []
   },
   "outputs": [],
   "source": [
    "genres.plot.barh();"
   ]
  },
  {
   "cell_type": "markdown",
   "metadata": {},
   "source": [
    "## The `album` table"
   ]
  },
  {
   "cell_type": "code",
   "execution_count": null,
   "metadata": {
    "tags": []
   },
   "outputs": [],
   "source": [
    "albums = raw[['album','artist','genre']].value_counts().to_frame('n_reviews').reset_index().set_index(['artist','album'])\n",
    "albums.index.names = ['artist_id','album_id']\n",
    "albums = albums.rename(columns={'genre':'genre_id'})\n",
    "albums.to_sql('album', db, index=True, if_exists='replace', index_label=albums.index.names)"
   ]
  },
  {
   "cell_type": "code",
   "execution_count": null,
   "metadata": {
    "tags": []
   },
   "outputs": [],
   "source": [
    "albums"
   ]
  },
  {
   "cell_type": "markdown",
   "metadata": {},
   "source": [
    "## The `review` table"
   ]
  },
  {
   "cell_type": "code",
   "execution_count": null,
   "metadata": {
    "tags": []
   },
   "outputs": [],
   "source": [
    "reviews = raw[['album', 'artist', 'best', 'date', 'review', 'score']].copy()\n",
    "reviews.columns = ['album_id', 'artist_id', 'is_best', 'review_date', 'review_content', 'album_score']\n",
    "reviews = reviews.set_index(['artist_id','album_id','review_date'])\n",
    "reviews.to_sql('review', db, index=True, if_exists='replace', index_label=reviews.index.names)"
   ]
  },
  {
   "cell_type": "code",
   "execution_count": null,
   "metadata": {
    "tags": []
   },
   "outputs": [],
   "source": [
    "reviews.head()"
   ]
  },
  {
   "cell_type": "code",
   "execution_count": null,
   "metadata": {
    "tags": []
   },
   "outputs": [],
   "source": [
    "reviews.loc['Wilco'].sort_index()"
   ]
  },
  {
   "cell_type": "code",
   "execution_count": null,
   "metadata": {
    "tags": []
   },
   "outputs": [],
   "source": [
    "reviews.loc['Wilco'].album_score.mean().round(2)"
   ]
  },
  {
   "cell_type": "markdown",
   "metadata": {},
   "source": [
    "Note how the new `review` table has fewer columns -- e.g. we no longer have genre. "
   ]
  },
  {
   "cell_type": "markdown",
   "metadata": {},
   "source": [
    "# Results\n",
    "\n",
    "So, we have create four primary tables from our raw data."
   ]
  },
  {
   "cell_type": "code",
   "execution_count": null,
   "metadata": {
    "tags": []
   },
   "outputs": [],
   "source": [
    "artists.head()"
   ]
  },
  {
   "cell_type": "code",
   "execution_count": null,
   "metadata": {
    "tags": []
   },
   "outputs": [],
   "source": [
    "albums.head()"
   ]
  },
  {
   "cell_type": "code",
   "execution_count": null,
   "metadata": {
    "tags": []
   },
   "outputs": [],
   "source": [
    "genres.head()"
   ]
  },
  {
   "cell_type": "code",
   "execution_count": null,
   "metadata": {
    "tags": []
   },
   "outputs": [],
   "source": [
    "reviews.head()"
   ]
  },
  {
   "cell_type": "markdown",
   "metadata": {},
   "source": [
    "# Use `.join()` \n",
    "\n",
    "If we want to see genre in the review, we can create a join."
   ]
  },
  {
   "cell_type": "code",
   "execution_count": null,
   "metadata": {
    "tags": []
   },
   "outputs": [],
   "source": [
    "reviews.join(albums)"
   ]
  },
  {
   "cell_type": "code",
   "execution_count": null,
   "metadata": {
    "tags": []
   },
   "outputs": [],
   "source": [
    "albums.join(artists, rsuffix='_artist')"
   ]
  },
  {
   "cell_type": "code",
   "execution_count": null,
   "metadata": {},
   "outputs": [],
   "source": []
  }
 ],
 "metadata": {
  "hide_input": false,
  "kernelspec": {
   "display_name": "Python 3 (ipykernel)",
   "language": "python",
   "name": "python3"
  },
  "language_info": {
   "codemirror_mode": {
    "name": "ipython",
    "version": 3
   },
   "file_extension": ".py",
   "mimetype": "text/x-python",
   "name": "python",
   "nbconvert_exporter": "python",
   "pygments_lexer": "ipython3",
   "version": "3.11.3"
  },
  "toc": {
   "nav_menu": {},
   "number_sections": true,
   "sideBar": true,
   "skip_h1_title": false,
   "toc_cell": false,
   "toc_position": {
    "height": "689px",
    "left": "0px",
    "right": "958px",
    "top": "111px",
    "width": "322px"
   },
   "toc_section_display": "block",
   "toc_window_display": true
  },
  "varInspector": {
   "cols": {
    "lenName": 16,
    "lenType": 16,
    "lenVar": 40
   },
   "kernels_config": {
    "python": {
     "delete_cmd_postfix": "",
     "delete_cmd_prefix": "del ",
     "library": "var_list.py",
     "varRefreshCmd": "print(var_dic_list())"
    },
    "r": {
     "delete_cmd_postfix": ") ",
     "delete_cmd_prefix": "rm(",
     "library": "var_list.r",
     "varRefreshCmd": "cat(var_dic_list()) "
    }
   },
   "position": {
    "height": "497px",
    "left": "793.636px",
    "right": "20px",
    "top": "120px",
    "width": "289px"
   },
   "types_to_exclude": [
    "module",
    "function",
    "builtin_function_or_method",
    "instance",
    "_Feature"
   ],
   "window_display": false
  }
 },
 "nbformat": 4,
 "nbformat_minor": 4
}
