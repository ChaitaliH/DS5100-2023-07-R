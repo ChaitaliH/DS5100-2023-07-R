{
 "cells": [
  {
   "cell_type": "markdown",
   "metadata": {},
   "source": [
    "# NB: Exception Handling\n",
    "\n",
    "## Topics\n",
    "\n",
    "- errors\n",
    "- exceptions\n",
    "- try/except\n",
    "- assert\n",
    "- AssertionError\n",
    "- raise\n",
    "\n",
    "## Overview\n",
    "\n",
    "> All happy families are alike, but every unhappy family is unhappy in its own way.\\\n",
    "-- Leo Tolstoy, _Anna Karenina_, 1878.\n",
    "\n",
    "There are two ways that programs can succeed of fail:\n",
    "\n",
    "They can meet or not meet the motiving **requirements** for the code.\n",
    "  - Does it do what is is supposed to do?\n",
    "  - Does it add value to a process?\n",
    "  - Is it ethical? Does it do harm?\n",
    "\n",
    "They can **work or not work**:\n",
    "  - Does the run at all?\n",
    "  - Is the code brittle or buggy? \n",
    "  - Is it sensitive to contextual factors like bad user input or a bad database connection?\n",
    "  - Does the code work but produce incorrect outcomes?\n",
    "  \n",
    "These lead to **two practices**:\n",
    "* Strategic: **Project management**\n",
    "* Tactical: **Testing and debugging**\n",
    "\n",
    "Today, we will focus on some concepts and tools for the latter.\n",
    "* We want to know whether our code is **working or not**.\n",
    "* We want to know if our code is of a **high quality**.\n",
    "  \n",
    "\n",
    "**Approaches to quality**\n",
    "* Through good **design**\n",
    "* Throigh principled **testing**\n",
    "\n",
    "**Some design principles**\n",
    "* Favor the **simple over the complex**\n",
    "  * Don't confuse the easy with the simple!\n",
    "* Invest in **data design** to simplify algorithm design\n",
    "* Write **literate code**\n",
    "* Given a choice, use tools that are **documented** and have a **user community**\n",
    "* Many other things :-)\n",
    "\n",
    "**Some testing activities**\n",
    "* Syntax checking\n",
    "* Debugging\n",
    "* Ad hoc testing\n",
    "* Unit-testing\n",
    "* User testing\n",
    "\n",
    "**Some concepts**\n",
    "* Beware of **silent failures**\n",
    "* Testing for **the absence of bugs** is impossible\n",
    "  - Like Popper's concept of falsifiability\n",
    "\n",
    "## Tools and Concepts for Testing\n",
    "\n",
    "Programming languages offer many tools for testing.\n",
    "\n",
    "These include mechanisms to define and capture errors in code.\n",
    "\n",
    "We call these errors **exceptions**.\n",
    "- An exception is an event that occurs during the execution of a program that disrupts the normal flow of the program's instructions. \n",
    "\n",
    "We call we call dealing with these errors **exception handling**.\n",
    "- When a Python script encounters a code failure, it raises an exception. \n",
    "\n",
    "## Python's Tools\n",
    "\n",
    "**Exceptions**\n",
    "- A Python **object** that represents an error\n",
    "- Objects that classify kinds of errors\n",
    "- Coders can define these \n",
    "\n",
    "**Exception Handlers**\n",
    "- Control structures and functions to deal with exceptions\n",
    "- `try`/`except`\n",
    "- `raise`\n",
    "- `assert`\n",
    "\n",
    "**Unit Testing Frameworks**\n",
    "- Robot\n",
    "- PyTest\n",
    "- **Unittest** \n",
    "- DocTest\n",
    "- Nose2\n",
    "- Testify\n",
    "\n",
    "## Errors and Exceptions\n",
    "\n",
    "A common technical interview question: Explain the difference between an **error** and an **exception**.\n",
    "\n",
    "An **error** is a serious problem that a reasonable application should not try to catch.  \n",
    "An error will stop execution. It means the code if broken and needs to be rewritten.\n",
    "\n",
    "An **exception** is an issue that is expected or known to occur (e.g., division by zero).  \n",
    "Software must handle exceptions. For example, one bad row of data shouldn't bring down the application.\n",
    "\n",
    "## Some Common Built-in Exceptions\n",
    "\n",
    "Python comes with a number of predefined exceptions.\n",
    "\n",
    "Libraries introduce new ones, too.\n",
    "\n",
    "They used in `raise` statement by the authors of programs when a possible error is anticipated.\n",
    "\n",
    "Here are some common examples.\n",
    "\n",
    "### `ZeroDivisionError`"
   ]
  },
  {
   "cell_type": "code",
   "execution_count": null,
   "metadata": {},
   "outputs": [],
   "source": [
    "3 / 0"
   ]
  },
  {
   "cell_type": "markdown",
   "metadata": {},
   "source": [
    "### `Syntax Error`"
   ]
  },
  {
   "cell_type": "code",
   "execution_count": null,
   "metadata": {},
   "outputs": [],
   "source": [
    "## if-statement missing colon at end\n",
    "\n",
    "if x > 0\n",
    "  print(\"uh oh\")"
   ]
  },
  {
   "cell_type": "markdown",
   "metadata": {},
   "source": [
    "### `NameError`"
   ]
  },
  {
   "cell_type": "code",
   "execution_count": null,
   "metadata": {},
   "outputs": [],
   "source": [
    "## references an undefined variable\n",
    "\n",
    "print(x)"
   ]
  },
  {
   "cell_type": "markdown",
   "metadata": {},
   "source": [
    "### `IndexError`"
   ]
  },
  {
   "cell_type": "code",
   "execution_count": null,
   "metadata": {},
   "outputs": [],
   "source": [
    "## loop goes off the end of the list\n",
    "\n",
    "lst = [0, 1, 2]\n",
    "\n",
    "for i in range(4):\n",
    "    print(lst[i])"
   ]
  },
  {
   "cell_type": "markdown",
   "metadata": {},
   "source": [
    "## Exception Handling with `try/except`\n",
    "\n",
    "We use `try/except` blocks to handle exceptions in our code.\n",
    "\n",
    "These blocks work as follows:\n",
    "* The `try` block will contain a statement. \n",
    "* If the statement fails, the the flow goes to the `except` block.\n",
    "* The exception block will have code to handle the error, rather than halting the program.\n",
    "\n",
    "The process is very similar to `if/then`:\n",
    "* **If** there is an **error**, **then** raise an **excpetion**.\n",
    "\n",
    "Multiple `except` statements may be given, to handle specific exceptions.  \n",
    "\n",
    "Below, we give a catch-all `except` for any kind of exception.\n",
    "\n",
    "An **excpetion** is a mistake that will halt the execution of code. \n",
    "* For example, trying to access a dictionary key that does not exit.\n",
    "* Or, a database connection fails. \n",
    "* Very often, execeptions are caused by an external dependency failing, such as another system or the user.\n",
    "\n",
    "Let's try referencing a variable that doesn't exist with no exception handling."
   ]
  },
  {
   "cell_type": "code",
   "execution_count": null,
   "metadata": {},
   "outputs": [],
   "source": [
    "print(a)"
   ]
  },
  {
   "cell_type": "markdown",
   "metadata": {},
   "source": [
    "Now let's try referencing a variable that doesn't exist with a `try/except` block to handle the exception.    "
   ]
  },
  {
   "cell_type": "code",
   "execution_count": null,
   "metadata": {},
   "outputs": [],
   "source": [
    "try:\n",
    "    print(a)\n",
    "except:\n",
    "   print(\"caught an exception\")"
   ]
  },
  {
   "cell_type": "markdown",
   "metadata": {},
   "source": [
    "## Assert Statements\n",
    "\n",
    "Another to catch errors before they happen is to test if computations turned out as expected.\n",
    "\n",
    "We use `assert` to verify an expression is True.  \n",
    "- if expression is True, nothing happens.\n",
    "- if expression is False, Python raises an `AssertionError` exception.\n",
    "\n",
    "Assert statements have the followinf syntax:  \n",
    "  \n",
    "```python\n",
    "assert Expression[, Arguments]\n",
    "```\n",
    "\n",
    "where `[, Arguments]` denotes optional arguments.  \n",
    "\n",
    "For example, let's say a program is expecting three arguments to be passed from the command line.    \n",
    "\n",
    "The variable `num_args` counts the arguments."
   ]
  },
  {
   "cell_type": "code",
   "execution_count": null,
   "metadata": {},
   "outputs": [],
   "source": [
    "num_args = 3\n",
    "\n",
    "assert num_args == 3, \"number of arguments must be 3!\""
   ]
  },
  {
   "cell_type": "markdown",
   "metadata": {},
   "source": [
    "The `assert` evaluates to True, and things proceed normally without exception.\n",
    "\n",
    "If we change `num_args = 4` this will throw an `AssertionError` with the provided message. \n",
    "\n",
    "The program then stops."
   ]
  },
  {
   "cell_type": "code",
   "execution_count": null,
   "metadata": {},
   "outputs": [],
   "source": [
    "num_args = 4\n",
    "\n",
    "assert num_args == 3, \"number of arguments must be 3!\""
   ]
  },
  {
   "cell_type": "markdown",
   "metadata": {},
   "source": [
    "If the `assert` is not given a message, it throws `AssertionError:`"
   ]
  },
  {
   "cell_type": "code",
   "execution_count": null,
   "metadata": {},
   "outputs": [],
   "source": [
    "num_args = 4\n",
    "\n",
    "assert num_args == 3"
   ]
  },
  {
   "cell_type": "code",
   "execution_count": null,
   "metadata": {},
   "outputs": [],
   "source": [
    "try:\n",
    "    assert num_args == 3\n",
    "except:\n",
    "    print(\"Got an error\")"
   ]
  },
  {
   "cell_type": "code",
   "execution_count": null,
   "metadata": {},
   "outputs": [],
   "source": [
    "try:\n",
    "    assert num_args == 3, \"Number of arguments must be 3!\"\n",
    "except AssertionError as e:\n",
    "    print(e)"
   ]
  },
  {
   "cell_type": "markdown",
   "metadata": {},
   "source": [
    "## `raise()`\n",
    "\n",
    "Exceptions can be **raised**, too.\n",
    "\n",
    "Use this if you want to halt the program and let other code that is using this code handle it.|"
   ]
  },
  {
   "cell_type": "code",
   "execution_count": null,
   "metadata": {},
   "outputs": [],
   "source": [
    "try:\n",
    "    10/0\n",
    "except:\n",
    "    raise ZeroDivisionError(\"Hey, you can't divide by zero!\")"
   ]
  },
  {
   "cell_type": "code",
   "execution_count": null,
   "metadata": {},
   "outputs": [],
   "source": [
    "raise IndexError(\"Bad Index\")"
   ]
  },
  {
   "cell_type": "markdown",
   "metadata": {},
   "source": [
    "## Futher Reading\n",
    "* https://www.geeksforgeeks.org/errors-and-exceptions-in-python/\n",
    "* https://www.tutorialspoint.com/python/assertions_in_python.htm\n"
   ]
  }
 ],
 "metadata": {
  "kernelspec": {
   "display_name": "Python 3 (ipykernel)",
   "language": "python",
   "name": "python3"
  },
  "language_info": {
   "codemirror_mode": {
    "name": "ipython",
    "version": 3
   },
   "file_extension": ".py",
   "mimetype": "text/x-python",
   "name": "python",
   "nbconvert_exporter": "python",
   "pygments_lexer": "ipython3",
   "version": "3.11.3"
  }
 },
 "nbformat": 4,
 "nbformat_minor": 4
}
