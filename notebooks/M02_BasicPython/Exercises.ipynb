{
 "cells": [
  {
   "cell_type": "markdown",
   "id": "f82a8ee2-d13b-4b05-90a9-3abba2f1c35b",
   "metadata": {},
   "source": [
    "## Exercise 2.1"
   ]
  },
  {
   "cell_type": "code",
   "execution_count": 10,
   "id": "26a0a407-5887-4c48-9ba2-a4ffe11e2673",
   "metadata": {
    "tags": []
   },
   "outputs": [],
   "source": [
    "string = 'IliveinCharlottesville'"
   ]
  },
  {
   "cell_type": "code",
   "execution_count": 8,
   "id": "38486002-5bbe-495a-9449-183c2d55f35a",
   "metadata": {},
   "outputs": [
    {
     "data": {
      "text/plain": [
       "22"
      ]
     },
     "execution_count": 8,
     "metadata": {},
     "output_type": "execute_result"
    }
   ],
   "source": [
    "len(string)"
   ]
  },
  {
   "cell_type": "code",
   "execution_count": 11,
   "id": "1cee7106-7f46-4d6c-9764-a81d13e7cd68",
   "metadata": {},
   "outputs": [
    {
     "data": {
      "text/plain": [
       "'Ili'"
      ]
     },
     "execution_count": 11,
     "metadata": {},
     "output_type": "execute_result"
    }
   ],
   "source": [
    "string[0:3]"
   ]
  },
  {
   "cell_type": "code",
   "execution_count": 6,
   "id": "9eee3273-35f4-4367-ba7c-f46704ba3e3e",
   "metadata": {},
   "outputs": [
    {
     "data": {
      "text/plain": [
       "'lle'"
      ]
     },
     "execution_count": 6,
     "metadata": {},
     "output_type": "execute_result"
    }
   ],
   "source": [
    "string[-3:]"
   ]
  },
  {
   "cell_type": "markdown",
   "id": "7874cf57-8c85-4a1b-883f-774001ab5c9e",
   "metadata": {},
   "source": [
    "## Exercise 2.2"
   ]
  },
  {
   "cell_type": "code",
   "execution_count": 9,
   "id": "9c32f151-d93e-4c42-a516-db5a83826195",
   "metadata": {},
   "outputs": [
    {
     "data": {
      "text/plain": [
       "2023"
      ]
     },
     "execution_count": 9,
     "metadata": {},
     "output_type": "execute_result"
    }
   ],
   "source": [
    "list = [\"MSDS\" , 2023 , 2024]\n",
    "list[1]"
   ]
  },
  {
   "cell_type": "markdown",
   "id": "ed1d65ba-67ba-4a2c-aadf-18edebb32ff0",
   "metadata": {},
   "source": [
    "## Exercise 2.3"
   ]
  },
  {
   "cell_type": "code",
   "execution_count": 12,
   "id": "f4999ea6-5073-44ba-8c0a-b4256faeff7f",
   "metadata": {},
   "outputs": [
    {
     "ename": "AttributeError",
     "evalue": "'tuple' object has no attribute 'append'",
     "output_type": "error",
     "traceback": [
      "\u001b[0;31m---------------------------------------------------------------------------\u001b[0m",
      "\u001b[0;31mAttributeError\u001b[0m                            Traceback (most recent call last)",
      "Cell \u001b[0;32mIn[12], line 2\u001b[0m\n\u001b[1;32m      1\u001b[0m Tuple \u001b[38;5;241m=\u001b[39m (\u001b[38;5;124m\"\u001b[39m\u001b[38;5;124mapple\u001b[39m\u001b[38;5;124m\"\u001b[39m, \u001b[38;5;124m\"\u001b[39m\u001b[38;5;124morange\u001b[39m\u001b[38;5;124m\"\u001b[39m, \u001b[38;5;124m\"\u001b[39m\u001b[38;5;124mbanana\u001b[39m\u001b[38;5;124m\"\u001b[39m)\n\u001b[0;32m----> 2\u001b[0m \u001b[43mTuple\u001b[49m\u001b[38;5;241;43m.\u001b[39;49m\u001b[43mappend\u001b[49m(\u001b[38;5;124m\"\u001b[39m\u001b[38;5;124mmango\u001b[39m\u001b[38;5;124m\"\u001b[39m)\n",
      "\u001b[0;31mAttributeError\u001b[0m: 'tuple' object has no attribute 'append'"
     ]
    }
   ],
   "source": [
    "Tuple = (\"apple\", \"orange\", \"banana\")\n",
    "Tuple.append(\"mango\")"
   ]
  },
  {
   "cell_type": "markdown",
   "id": "bfb514e5-83bf-4229-b287-70868611502f",
   "metadata": {},
   "source": [
    "## Exercise 2.4"
   ]
  },
  {
   "cell_type": "code",
   "execution_count": 13,
   "id": "fb1271a1-f3d8-4e80-98bc-4d92b1c7a5ba",
   "metadata": {},
   "outputs": [],
   "source": [
    "val = 'ERROR'\n",
    "levels = {'WARN', 'ERROR', 'CRITICAL'}"
   ]
  },
  {
   "cell_type": "code",
   "execution_count": 14,
   "id": "a07a9593-8e68-4711-883c-9c45f02bba72",
   "metadata": {},
   "outputs": [
    {
     "data": {
      "text/plain": [
       "True"
      ]
     },
     "execution_count": 14,
     "metadata": {},
     "output_type": "execute_result"
    }
   ],
   "source": [
    "val in levels"
   ]
  },
  {
   "cell_type": "markdown",
   "id": "df93ee63-8df8-4809-8ce5-782994d5c72c",
   "metadata": {},
   "source": [
    "## Exercise 2.5"
   ]
  },
  {
   "cell_type": "code",
   "execution_count": 8,
   "id": "5a179aa9-0072-4461-b856-c2e04fd58339",
   "metadata": {},
   "outputs": [],
   "source": [
    "mydict = { 1 : \"apple\", 2: \"orange\", 3: \"banana\" }"
   ]
  },
  {
   "cell_type": "code",
   "execution_count": 9,
   "id": "80740971-4c9c-49c0-a818-2c42cace7f44",
   "metadata": {},
   "outputs": [
    {
     "data": {
      "text/plain": [
       "'banana'"
      ]
     },
     "execution_count": 9,
     "metadata": {},
     "output_type": "execute_result"
    }
   ],
   "source": [
    "mydict.get(3)"
   ]
  },
  {
   "cell_type": "code",
   "execution_count": 10,
   "id": "02e7fadd-b93c-456a-9d46-0d43fb60b5c2",
   "metadata": {},
   "outputs": [
    {
     "name": "stdout",
     "output_type": "stream",
     "text": [
      "[1, 2, 3]\n"
     ]
    }
   ],
   "source": [
    "mylist = list(mydict.keys())\n",
    "print(mylist)"
   ]
  },
  {
   "cell_type": "markdown",
   "id": "9b6e28d2-384e-4208-b3d8-3cc9c11c58c1",
   "metadata": {},
   "source": [
    "## Exercise 2.6"
   ]
  },
  {
   "cell_type": "code",
   "execution_count": 5,
   "id": "4f74e744-254c-4416-87af-42e4732ed0d0",
   "metadata": {},
   "outputs": [],
   "source": [
    "string1 = \"The quick brown fox jumped over the lzay dogs.\"\n",
    "string2 = string1.replace('.', ' ')\n",
    "string3 = string2.lower()\n",
    "string4 = string3.split()\n",
    "set1 = set(string4)\n",
    "set2 = sorted(set1)"
   ]
  },
  {
   "cell_type": "code",
   "execution_count": 6,
   "id": "3d947de8-580b-43e2-a792-1909f1188e52",
   "metadata": {},
   "outputs": [
    {
     "data": {
      "text/plain": [
       "['brown', 'dogs', 'fox', 'jumped', 'lzay', 'over', 'quick', 'the']"
      ]
     },
     "execution_count": 6,
     "metadata": {},
     "output_type": "execute_result"
    }
   ],
   "source": [
    "set2"
   ]
  }
 ],
 "metadata": {
  "kernelspec": {
   "display_name": "Python 3 (ipykernel)",
   "language": "python",
   "name": "python3"
  },
  "language_info": {
   "codemirror_mode": {
    "name": "ipython",
    "version": 3
   },
   "file_extension": ".py",
   "mimetype": "text/x-python",
   "name": "python",
   "nbconvert_exporter": "python",
   "pygments_lexer": "ipython3",
   "version": "3.10.9"
  }
 },
 "nbformat": 4,
 "nbformat_minor": 5
}
